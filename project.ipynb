{
 "cells": [
  {
   "cell_type": "code",
   "execution_count": null,
   "metadata": {},
   "outputs": [],
   "source": [
    "import numpy as np\n",
    "import matplotlib.pyplot as plt\n",
    "#import seaborn as sns\n",
    "import pandas as pd\n",
    "import datetime as dt"
   ]
  },
  {
   "cell_type": "code",
   "execution_count": null,
   "metadata": {},
   "outputs": [],
   "source": [
    "# Cleaning data \n",
    "demands = pd.read_csv('data/demand.csv')\n",
    "\n",
    "# Convert 'DATA' column to datetime format\n",
    "demands['DATA'] = pd.to_datetime(demands['DATA'], dayfirst=True)\n",
    "\n",
    "# Select only the rows from 01/01/2019 to 31/12/2019\n",
    "demands = demands[(demands['DATA'] >= '2019-01-01') & (demands['DATA'] <= '2019-12-31')]\n",
    " # drop the columns 'DIA'\n",
    "demands = demands.drop(columns=['DIA','H25','TOTAL'])\n",
    "\n",
    "# Melt the DataFrame to have 'DATA' and 'Hour' as columns\n",
    "demands_melted = demands.melt(id_vars=['DATA'], value_vars=[f'H{i:02d}' for i in range(1, 25)], \n",
    "                              var_name='Hour', value_name='Demand')\n",
    "# Convert 'Hour' column to actual hour values\n",
    "demands_melted['Hour'] = demands_melted['Hour'].str.extract('(\\d+)').astype(int)\n",
    "\n",
    "# Combine 'DATA' and 'Hour' into a single datetime column\n",
    "demands_melted['Datetime'] = demands_melted.apply(lambda row: row['DATA'] + pd.Timedelta(hours=row['Hour']-1), axis=1)\n",
    "# Reorder columns\n",
    "demands_melted = demands_melted[['Datetime', 'Demand']]\n",
    "# sort by the hours \n",
    "demands_melted = demands_melted.sort_values(by='Datetime')\n",
    "# reset the index\n",
    "demands_melted = demands_melted.reset_index(drop=True)\n",
    "demands_melted.head()\n"
   ]
  },
  {
   "cell_type": "code",
   "execution_count": null,
   "metadata": {},
   "outputs": [],
   "source": [
    "\n",
    "\n",
    "energy_demand= demands_melted['Demand']\n",
    "# Load the solar generation data only a specific column adn remove first 3 rows\n",
    "solar_generation= pd.read_csv('data/solar1.csv', usecols=[2], skiprows=3)\n",
    "wind_generation= pd.read_csv('data/wind1.csv', usecols=[2], skiprows=3)\n",
    "date= demands_melted['Datetime']\n",
    "df= pd.DataFrame(date, columns=['date'])\n",
    "df['date']= date\n",
    "#df['month']= df['date'].dt.month\n",
    "df['energy_demand']= energy_demand\n",
    "df['Solar generation']= solar_generation\n",
    "df['Wind generation']= wind_generation\n",
    "\n",
    "\n",
    "\n",
    "df.head()\n",
    "\n",
    "\n"
   ]
  }
 ],
 "metadata": {
  "language_info": {
   "name": "python"
  }
 },
 "nbformat": 4,
 "nbformat_minor": 2
}
